{
  "nbformat": 4,
  "nbformat_minor": 0,
  "metadata": {
    "colab": {
      "provenance": []
    },
    "kernelspec": {
      "name": "python3",
      "display_name": "Python 3"
    },
    "language_info": {
      "name": "python"
    }
  },
  "cells": [
    {
      "cell_type": "markdown",
      "source": [
        "# **⭐ Regression Model to Predict Cement Compressive Strength**"
      ],
      "metadata": {
        "id": "WFDDGl8Ph2eh"
      }
    },
    {
      "cell_type": "code",
      "source": [
        "# import library\n",
        "import pandas as pd\n",
        "import seaborn as sns\n",
        "import numpy as np"
      ],
      "metadata": {
        "id": "ZHLXIhA9h5_w"
      },
      "execution_count": null,
      "outputs": []
    },
    {
      "cell_type": "code",
      "source": [
        "# import data\n",
        "cement = pd.read_csv('https://github.com/ybifoundation/Dataset/raw/main/Concrete%20Compressive%20Strength.csv')"
      ],
      "metadata": {
        "id": "G-GHM93ch93K"
      },
      "execution_count": null,
      "outputs": []
    },
    {
      "cell_type": "code",
      "source": [
        "# view data\n",
        "cement.head()"
      ],
      "metadata": {
        "id": "Dp8vED6JiJ0z"
      },
      "execution_count": null,
      "outputs": []
    },
    {
      "cell_type": "code",
      "source": [
        "# info of data\n",
        "cement.info()"
      ],
      "metadata": {
        "id": "uHnwgKrRiUcn"
      },
      "execution_count": null,
      "outputs": []
    },
    {
      "cell_type": "code",
      "source": [
        "# summary statistics\n",
        "cement.describe()"
      ],
      "metadata": {
        "id": "ZRKAxpakiZA9"
      },
      "execution_count": null,
      "outputs": []
    },
    {
      "cell_type": "code",
      "source": [
        "# check for missing value\n",
        "cement.isnull().sum()"
      ],
      "metadata": {
        "id": "GZDVMNsAifjA"
      },
      "execution_count": null,
      "outputs": []
    },
    {
      "cell_type": "code",
      "source": [
        "# check for categories\n",
        "cement.nunique()"
      ],
      "metadata": {
        "id": "3TGV1tcDijU3"
      },
      "execution_count": null,
      "outputs": []
    },
    {
      "cell_type": "code",
      "source": [
        "# visualize pairplot\n",
        "sns.pairplot(cement)"
      ],
      "metadata": {
        "id": "T7nnm6UGi5RY"
      },
      "execution_count": null,
      "outputs": []
    },
    {
      "cell_type": "code",
      "source": [
        "# columns name\n",
        "cement.columns"
      ],
      "metadata": {
        "id": "EipsUZ-RjJBX"
      },
      "execution_count": null,
      "outputs": []
    },
    {
      "cell_type": "code",
      "source": [
        "# define y\n",
        "y = cement['Concrete Compressive Strength(MPa, megapascals) ']"
      ],
      "metadata": {
        "id": "3TV5wbymjNRV"
      },
      "execution_count": null,
      "outputs": []
    },
    {
      "cell_type": "code",
      "source": [
        "# define X\n",
        "X = cement[['Cement (kg in a m^3 mixture)',\n",
        "       'Blast Furnace Slag (kg in a m^3 mixture)',\n",
        "       'Fly Ash (kg in a m^3 mixture)', 'Water (kg in a m^3 mixture)',\n",
        "       'Superplasticizer (kg in a m^3 mixture)',\n",
        "       'Coarse Aggregate (kg in a m^3 mixture)',\n",
        "       'Fine Aggregate (kg in a m^3 mixture)', 'Age (day)']]"
      ],
      "metadata": {
        "id": "yF9eLY43jSya"
      },
      "execution_count": null,
      "outputs": []
    },
    {
      "cell_type": "code",
      "source": [
        "# split data\n",
        "\n",
        "from sklearn.model_selection import train_test_split\n",
        "\n",
        "X_train, X_test, y_train, y_test = train_test_split(X,y, train_size=0.7, random_state=2529)"
      ],
      "metadata": {
        "id": "OGfvCXrtjYCd"
      },
      "execution_count": null,
      "outputs": []
    },
    {
      "cell_type": "code",
      "source": [
        "# verify shape\n",
        "X_train.shape, X_test.shape, y_train.shape, y_test.shape"
      ],
      "metadata": {
        "id": "zgSCDmPsjcjE"
      },
      "execution_count": null,
      "outputs": []
    },
    {
      "cell_type": "code",
      "source": [
        "# select model\n",
        "\n",
        "from sklearn.linear_model import LinearRegression\n",
        "\n",
        "model = LinearRegression()"
      ],
      "metadata": {
        "id": "XFqD3t_cjf9U"
      },
      "execution_count": null,
      "outputs": []
    },
    {
      "cell_type": "code",
      "source": [
        "# train model\n",
        "\n",
        "model.fit(X_train, y_train)"
      ],
      "metadata": {
        "id": "7vVn78MKjjl1"
      },
      "execution_count": null,
      "outputs": []
    },
    {
      "cell_type": "code",
      "source": [
        "# predict with model\n",
        "\n",
        "y_pred = model.predict(X_test)"
      ],
      "metadata": {
        "id": "CVtLy8ZOjrii"
      },
      "execution_count": null,
      "outputs": []
    },
    {
      "cell_type": "code",
      "source": [
        "# model evaluation\n",
        "y_pred"
      ],
      "metadata": {
        "id": "VVSqf24yjwQK"
      },
      "execution_count": null,
      "outputs": []
    },
    {
      "cell_type": "code",
      "source": [
        "# model MAE\n",
        "\n",
        "from sklearn.metrics import mean_absolute_error\n",
        "\n",
        "mean_absolute_error(y_test, y_pred)"
      ],
      "metadata": {
        "colab": {
          "base_uri": "https://localhost:8080/"
        },
        "id": "-IfSQ9wij4HS",
        "outputId": "776fc5b1-bb57-4ee3-db23-ea857d07a56a"
      },
      "execution_count": null,
      "outputs": [
        {
          "output_type": "execute_result",
          "data": {
            "text/plain": [
              "8.683767775410706"
            ]
          },
          "metadata": {},
          "execution_count": 22
        }
      ]
    },
    {
      "cell_type": "code",
      "source": [
        "# model MAPE\n",
        "\n",
        "from sklearn.metrics import mean_absolute_percentage_error\n",
        "\n",
        "mean_absolute_percentage_error(y_test, y_pred)"
      ],
      "metadata": {
        "id": "wLCx08c0kA7b"
      },
      "execution_count": null,
      "outputs": []
    },
    {
      "cell_type": "code",
      "source": [
        "# model MSE\n",
        "from sklearn.metrics import mean_squared_error\n",
        "\n",
        "mean_squared_error(y_test, y_pred)"
      ],
      "metadata": {
        "id": "sTlNvSWTkFch"
      },
      "execution_count": null,
      "outputs": []
    },
    {
      "cell_type": "code",
      "source": [
        "# future prediction\n",
        "model.predict([[540,0,0,162,2.5,1040,676,28]])"
      ],
      "metadata": {
        "id": "a_6WY8dwkOq7"
      },
      "execution_count": null,
      "outputs": []
    },
    {
      "cell_type": "code",
      "source": [
        "# define X_new\n",
        "\n",
        "cement.columns\n",
        "\n",
        "X_new = [[['Cement (kg in a m^3 mixture)',540],['Blast Furnace Slag (kg in a m^3 mixture)',0],\n",
        "          ['Fly Ash (kg in a m^3 mixture)',0],['Water (kg in a m^3 mixture)',162],['Superplasticizer (kg in a m^3 mixture)',2.5],\n",
        "          ['Coarse Aggregate (kg in a m^3 mixture)',1040],['Fine Aggregate (kg in a m^3 mixture)',676],['Age (day)',28]]]\n",
        "X_new = np.array([540,0,0,162,2.5,1040,676,28]).reshape(-1,8)\n",
        "X_new.shape"
      ],
      "metadata": {
        "id": "3CVPD-EekSlq"
      },
      "execution_count": null,
      "outputs": []
    },
    {
      "cell_type": "code",
      "source": [
        "# predict for X_new\n",
        "model.predict(X_new)"
      ],
      "metadata": {
        "id": "EYVDyP5wkWyD"
      },
      "execution_count": null,
      "outputs": []
    }
  ]
}